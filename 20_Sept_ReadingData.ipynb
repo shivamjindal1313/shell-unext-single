{
 "cells": [
  {
   "cell_type": "code",
   "execution_count": 1,
   "id": "1df38b19",
   "metadata": {},
   "outputs": [],
   "source": [
    "!ls"
   ]
  },
  {
   "cell_type": "code",
   "execution_count": 2,
   "id": "f24f0197",
   "metadata": {},
   "outputs": [],
   "source": [
    "from pyspark.sql import SparkSession"
   ]
  },
  {
   "cell_type": "code",
   "execution_count": 3,
   "id": "b64e543d",
   "metadata": {},
   "outputs": [
    {
     "name": "stderr",
     "output_type": "stream",
     "text": [
      "Setting default log level to \"WARN\".\n",
      "To adjust logging level use sc.setLogLevel(newLevel). For SparkR, use setLogLevel(newLevel).\n",
      "23/09/21 06:36:33 WARN NativeCodeLoader: Unable to load native-hadoop library for your platform... using builtin-java classes where applicable\n"
     ]
    }
   ],
   "source": [
    "spark=SparkSession.builder.appName(\"App1\").getOrCreate()"
   ]
  },
  {
   "cell_type": "code",
   "execution_count": 4,
   "id": "d191de44",
   "metadata": {},
   "outputs": [
    {
     "name": "stderr",
     "output_type": "stream",
     "text": [
      "                                                                                \r"
     ]
    }
   ],
   "source": [
    "data=spark.read.csv(\"temp.csv\",header=True,inferSchema=True)"
   ]
  },
  {
   "cell_type": "code",
   "execution_count": 5,
   "id": "e866e943",
   "metadata": {},
   "outputs": [
    {
     "name": "stdout",
     "output_type": "stream",
     "text": [
      "+---+-------+-----------+----+--------+\n",
      "|Day|Weather|Temperature|Wind|Humidity|\n",
      "+---+-------+-----------+----+--------+\n",
      "|Mon|  Sunny|      12.79|  13|      30|\n",
      "|Tue|  Sunny|      19.67|  28|      96|\n",
      "|Wed|  Sunny|      17.51|  16|      20|\n",
      "|Thu| Cloudy|      14.44|  11|      22|\n",
      "|Fri| Shower|      10.51|  26|      79|\n",
      "|Sat| Shower|      11.07|  27|      62|\n",
      "|Sun|  Sunny|       17.5|  20|      10|\n",
      "+---+-------+-----------+----+--------+\n",
      "\n"
     ]
    }
   ],
   "source": [
    "data.show()"
   ]
  },
  {
   "cell_type": "code",
   "execution_count": 13,
   "id": "3e19d054",
   "metadata": {},
   "outputs": [
    {
     "name": "stdout",
     "output_type": "stream",
     "text": [
      "+---+-----------+\n",
      "|Day|Temperature|\n",
      "+---+-----------+\n",
      "|Sat|      11.07|\n",
      "|Sun|       17.5|\n",
      "+---+-----------+\n",
      "\n"
     ]
    }
   ],
   "source": [
    "data=data.filter((data[\"Day\"].isin([\"Sat\",\"Sun\"]))).select([\"Day\",\"Temperature\"])\n",
    "data.show()"
   ]
  },
  {
   "cell_type": "code",
   "execution_count": null,
   "id": "26746fc8",
   "metadata": {},
   "outputs": [],
   "source": []
  },
  {
   "cell_type": "code",
   "execution_count": null,
   "id": "bf205009",
   "metadata": {},
   "outputs": [],
   "source": []
  },
  {
   "cell_type": "code",
   "execution_count": null,
   "id": "2ea4cfd4",
   "metadata": {},
   "outputs": [],
   "source": []
  },
  {
   "cell_type": "code",
   "execution_count": 8,
   "id": "31f25dce",
   "metadata": {},
   "outputs": [
    {
     "name": "stdout",
     "output_type": "stream",
     "text": [
      "DataFrame[Temperature: double]\n"
     ]
    }
   ],
   "source": [
    "weekend_temp = data.filter(data['Day'].isin(['Sat', 'Sun'])).select('Temperature')\n",
    "\n",
    "\n",
    "# Print the temperature values for Sat and Sun\n",
    "print(weekend_temp)"
   ]
  },
  {
   "cell_type": "code",
   "execution_count": null,
   "id": "0c11cb54",
   "metadata": {},
   "outputs": [],
   "source": [
    "weekend_temp=data[data['Day'].isin(['Sat','Sun'])]['Temperature']\n",
    "weekend_temp_values = weekend_temp.tolist()\n",
    "print(weekend_temp_values)"
   ]
  },
  {
   "cell_type": "code",
   "execution_count": null,
   "id": "e4e17663",
   "metadata": {},
   "outputs": [],
   "source": [
    "spark.parallel([])"
   ]
  },
  {
   "cell_type": "code",
   "execution_count": null,
   "id": "f7fd286c",
   "metadata": {},
   "outputs": [],
   "source": []
  }
 ],
 "metadata": {
  "kernelspec": {
   "display_name": "Python 3 (ipykernel)",
   "language": "python",
   "name": "python3"
  },
  "language_info": {
   "codemirror_mode": {
    "name": "ipython",
    "version": 3
   },
   "file_extension": ".py",
   "mimetype": "text/x-python",
   "name": "python",
   "nbconvert_exporter": "python",
   "pygments_lexer": "ipython3",
   "version": "3.11.4"
  }
 },
 "nbformat": 4,
 "nbformat_minor": 5
}
