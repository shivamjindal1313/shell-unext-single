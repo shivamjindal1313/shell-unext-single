{
 "cells": [
  {
   "cell_type": "code",
   "execution_count": 1,
   "id": "7088299e",
   "metadata": {},
   "outputs": [],
   "source": [
    "import findspark"
   ]
  },
  {
   "cell_type": "code",
   "execution_count": 2,
   "id": "b4c0ac72",
   "metadata": {},
   "outputs": [],
   "source": [
    "findspark.init()"
   ]
  },
  {
   "cell_type": "code",
   "execution_count": 3,
   "id": "ad6d2e0b",
   "metadata": {},
   "outputs": [],
   "source": [
    "from pyspark import SparkContext"
   ]
  },
  {
   "cell_type": "code",
   "execution_count": null,
   "id": "3b0d00de",
   "metadata": {},
   "outputs": [],
   "source": [
    "sc=SparkContext(\"local\",\"SparkPractice\")"
   ]
  },
  {
   "cell_type": "code",
   "execution_count": null,
   "id": "762a5bc2",
   "metadata": {},
   "outputs": [],
   "source": [
    "data=[1,2,3,4,5]\n",
    "rdd=sc.parallelize(data)"
   ]
  },
  {
   "cell_type": "code",
   "execution_count": null,
   "id": "e261627a",
   "metadata": {},
   "outputs": [],
   "source": [
    "result=rdd.collect()\n",
    "print(result)"
   ]
  },
  {
   "cell_type": "code",
   "execution_count": null,
   "id": "e97d6a4d",
   "metadata": {},
   "outputs": [],
   "source": [
    "num=sc.parallelize([5,5,4,3,2,9,2],3)"
   ]
  },
  {
   "cell_type": "code",
   "execution_count": null,
   "id": "a10bec6e",
   "metadata": {},
   "outputs": [],
   "source": [
    "num.countByValue()"
   ]
  },
  {
   "cell_type": "code",
   "execution_count": null,
   "id": "81626cfd",
   "metadata": {},
   "outputs": [],
   "source": [
    "num.getNumPartitions()"
   ]
  },
  {
   "cell_type": "code",
   "execution_count": null,
   "id": "73714a53",
   "metadata": {},
   "outputs": [],
   "source": [
    "num.collect()"
   ]
  },
  {
   "cell_type": "code",
   "execution_count": null,
   "id": "7c31a7c3",
   "metadata": {},
   "outputs": [],
   "source": [
    "def f(x):print(x)\n",
    "a=sc.parallelize([1,2,3,4,5]).foreach(lambda x:print(x))"
   ]
  },
  {
   "cell_type": "code",
   "execution_count": 5,
   "id": "25b3036b",
   "metadata": {},
   "outputs": [],
   "source": [
    "from pyspark.sql import SparkSession"
   ]
  },
  {
   "cell_type": "code",
   "execution_count": null,
   "id": "beeb7714",
   "metadata": {},
   "outputs": [],
   "source": [
    "from pyspark.sql.types import StructType, StructField, IntegerType, StringType"
   ]
  },
  {
   "cell_type": "code",
   "execution_count": null,
   "id": "c4fdb7ca",
   "metadata": {},
   "outputs": [],
   "source": [
    "data=[(\"Alice\",25),(\"Bob\",30),(\"Charlie\",35),(\"David\",28),(\"Eve\",22)]\n",
    "\n",
    "schema=StructType([\n",
    "    StructField(\"name\",StringType(),True),\n",
    "    StructField(\"age\",IntegerType(),True)\n",
    "])"
   ]
  },
  {
   "cell_type": "code",
   "execution_count": 6,
   "id": "79a5fff1",
   "metadata": {},
   "outputs": [
    {
     "name": "stderr",
     "output_type": "stream",
     "text": [
      "Setting default log level to \"WARN\".\n",
      "To adjust logging level use sc.setLogLevel(newLevel). For SparkR, use setLogLevel(newLevel).\n",
      "23/09/22 10:36:43 WARN NativeCodeLoader: Unable to load native-hadoop library for your platform... using builtin-java classes where applicable\n",
      "23/09/22 10:36:45 WARN Utils: Service 'SparkUI' could not bind on port 4040. Attempting port 4041.\n"
     ]
    }
   ],
   "source": [
    "spark=SparkSession.builder.appName(\"MySparkSql\").getOrCreate()"
   ]
  },
  {
   "cell_type": "code",
   "execution_count": null,
   "id": "7fc4c25f",
   "metadata": {},
   "outputs": [],
   "source": [
    "rdd=spark.sparkContext.parallelize(data)"
   ]
  },
  {
   "cell_type": "code",
   "execution_count": null,
   "id": "aa8f57a5",
   "metadata": {},
   "outputs": [],
   "source": [
    "rdd.collect()"
   ]
  },
  {
   "cell_type": "code",
   "execution_count": null,
   "id": "302c20ff",
   "metadata": {},
   "outputs": [],
   "source": [
    "df=spark.createDataFrame(rdd,schema=schema)"
   ]
  },
  {
   "cell_type": "code",
   "execution_count": null,
   "id": "f1b4ea1c",
   "metadata": {},
   "outputs": [],
   "source": [
    "df.show()"
   ]
  },
  {
   "cell_type": "code",
   "execution_count": null,
   "id": "ef0e5d17",
   "metadata": {},
   "outputs": [],
   "source": [
    "result_df=df.filter(df.age>=30)"
   ]
  },
  {
   "cell_type": "code",
   "execution_count": null,
   "id": "efc910b0",
   "metadata": {},
   "outputs": [],
   "source": [
    "result_df.show()"
   ]
  },
  {
   "cell_type": "code",
   "execution_count": null,
   "id": "c06122a4",
   "metadata": {},
   "outputs": [],
   "source": [
    "df.createOrReplaceTempView(\"mytable\")"
   ]
  },
  {
   "cell_type": "code",
   "execution_count": null,
   "id": "a90fa438",
   "metadata": {},
   "outputs": [],
   "source": [
    "result=spark.sql(\"Select * from mytable where age>=20\")"
   ]
  },
  {
   "cell_type": "code",
   "execution_count": null,
   "id": "c5386934",
   "metadata": {},
   "outputs": [],
   "source": [
    "result.show()"
   ]
  },
  {
   "cell_type": "code",
   "execution_count": null,
   "id": "8b562c1e",
   "metadata": {},
   "outputs": [],
   "source": [
    "!wget https://github.com/NubeEra-DataEngineering/DataSets/blob/main/movies.csv"
   ]
  },
  {
   "cell_type": "code",
   "execution_count": null,
   "id": "80350c49",
   "metadata": {},
   "outputs": [],
   "source": [
    "df=spark.read.csv(\"movies.csv\",header=True,inferSchema=True)"
   ]
  },
  {
   "cell_type": "code",
   "execution_count": null,
   "id": "dcd02bc1",
   "metadata": {},
   "outputs": [],
   "source": [
    "df.show()"
   ]
  },
  {
   "cell_type": "code",
   "execution_count": null,
   "id": "6a6be58b",
   "metadata": {},
   "outputs": [],
   "source": [
    "df.createOrReplaceTempView(\"mytable\")"
   ]
  },
  {
   "cell_type": "code",
   "execution_count": null,
   "id": "76bf0841",
   "metadata": {},
   "outputs": [],
   "source": [
    "result=spark.sql(\"Select * from mytable where Genre in ('Drama')\")"
   ]
  },
  {
   "cell_type": "code",
   "execution_count": null,
   "id": "fc0cfb05",
   "metadata": {},
   "outputs": [],
   "source": [
    "result.show()"
   ]
  },
  {
   "cell_type": "code",
   "execution_count": null,
   "id": "abcaae03",
   "metadata": {},
   "outputs": [],
   "source": [
    "print(result.schema)"
   ]
  },
  {
   "cell_type": "code",
   "execution_count": null,
   "id": "bae5c07a",
   "metadata": {},
   "outputs": [],
   "source": [
    "result=spark.sql(\"Select * from mytable where `Audience score %` >=70\")"
   ]
  },
  {
   "cell_type": "code",
   "execution_count": null,
   "id": "390bd20b",
   "metadata": {},
   "outputs": [],
   "source": [
    "result.show()"
   ]
  },
  {
   "cell_type": "code",
   "execution_count": null,
   "id": "bf537298",
   "metadata": {},
   "outputs": [],
   "source": [
    "# from pyspark import SparkConf\n",
    "from pyspark import SparkContext,SparkConf\n",
    "conf=SparkConf().setAppName(\"App1\").setMaster(\"local\")\n",
    "sc=SparkContext(conf=conf)\n",
    "num=sc.parallelize([5,5,4,3,2,9,2])\n",
    "num.collect()"
   ]
  },
  {
   "cell_type": "code",
   "execution_count": null,
   "id": "eb378375",
   "metadata": {},
   "outputs": [],
   "source": [
    "type(num)"
   ]
  },
  {
   "cell_type": "code",
   "execution_count": null,
   "id": "55457dc5",
   "metadata": {},
   "outputs": [],
   "source": [
    "(num.map(lambda x: x*2)).collect()"
   ]
  },
  {
   "cell_type": "code",
   "execution_count": null,
   "id": "1410d920",
   "metadata": {},
   "outputs": [],
   "source": [
    "num=sc.parallelize([2,3,4])"
   ]
  },
  {
   "cell_type": "code",
   "execution_count": null,
   "id": "358d7e4d",
   "metadata": {},
   "outputs": [],
   "source": [
    "num.collect()"
   ]
  },
  {
   "cell_type": "code",
   "execution_count": null,
   "id": "466abd00",
   "metadata": {},
   "outputs": [],
   "source": [
    "(num.flatMap(lambda x:range(1,x))).collect()"
   ]
  },
  {
   "cell_type": "code",
   "execution_count": null,
   "id": "e6554a03",
   "metadata": {},
   "outputs": [],
   "source": [
    "(num.map(lambda x:range(1,x))).collect()"
   ]
  },
  {
   "cell_type": "code",
   "execution_count": null,
   "id": "84084f79",
   "metadata": {},
   "outputs": [],
   "source": [
    "numbers=sc.parallelize([1,2,3,4,5])"
   ]
  },
  {
   "cell_type": "code",
   "execution_count": null,
   "id": "44c28ff8",
   "metadata": {},
   "outputs": [],
   "source": [
    "def generate_squares(numbers):\n",
    "    return [numbers,numbers**2]"
   ]
  },
  {
   "cell_type": "code",
   "execution_count": null,
   "id": "3ac466d0",
   "metadata": {},
   "outputs": [],
   "source": [
    "squares_rdd=numbers.flatMap(generate_squares)\n",
    "squares_rdd.collect()"
   ]
  },
  {
   "cell_type": "code",
   "execution_count": null,
   "id": "da2f8471",
   "metadata": {},
   "outputs": [],
   "source": [
    "(squares_rdd.filter(lambda x:x%2==0)).collect()"
   ]
  },
  {
   "cell_type": "code",
   "execution_count": null,
   "id": "e2a145f9",
   "metadata": {},
   "outputs": [],
   "source": [
    "num=sc.parallelize([5,5,4,3,2,9,2],2)\n",
    "num.collect()"
   ]
  },
  {
   "cell_type": "code",
   "execution_count": null,
   "id": "41e24803",
   "metadata": {},
   "outputs": [],
   "source": [
    "num.glom().collect()"
   ]
  },
  {
   "cell_type": "code",
   "execution_count": null,
   "id": "1f7956d8",
   "metadata": {},
   "outputs": [],
   "source": [
    "num.fold(2,lambda a,b:a+b)"
   ]
  },
  {
   "cell_type": "code",
   "execution_count": null,
   "id": "d523b674",
   "metadata": {},
   "outputs": [],
   "source": [
    "num.fold(2,lambda a,b:a*b)"
   ]
  },
  {
   "cell_type": "code",
   "execution_count": null,
   "id": "48609285",
   "metadata": {},
   "outputs": [],
   "source": [
    "squares_rdd=numbers.map(generate_squares)\n",
    "squares_rdd.collect()"
   ]
  },
  {
   "cell_type": "code",
   "execution_count": 7,
   "id": "c82134b5",
   "metadata": {},
   "outputs": [],
   "source": [
    "from pyspark.sql import functions as F"
   ]
  },
  {
   "cell_type": "code",
   "execution_count": 14,
   "id": "5ef8c8c8",
   "metadata": {},
   "outputs": [
    {
     "data": {
      "text/plain": [
       "DataFrame[product: string, count: bigint]"
      ]
     },
     "metadata": {},
     "output_type": "display_data"
    }
   ],
   "source": [
    "data=[\n",
    "    ('Phones',55),\n",
    "    ('Laptop',43),\n",
    "    ('Keyboard',37),\n",
    "    ('Mouse',40)\n",
    "    ]\n",
    "schema=['product','count']\n",
    "\n",
    "sampleDF=spark.createDataFrame(data,schema)\n",
    "display(sampleDF)"
   ]
  },
  {
   "cell_type": "code",
   "execution_count": 17,
   "id": "4f598695",
   "metadata": {},
   "outputs": [],
   "source": [
    "#Perform transformation\n",
    "AdvDF=(\n",
    "    sampleDF\n",
    "    .withColumn(\"count\",F.col(\"count\")+12)\n",
    "    .withColumn(\"count\",F.col(\"count\")-4)\n",
    ")"
   ]
  },
  {
   "cell_type": "code",
   "execution_count": 18,
   "id": "86f8196c",
   "metadata": {},
   "outputs": [
    {
     "name": "stdout",
     "output_type": "stream",
     "text": [
      "[Row(product='Phones', count=63), Row(product='Laptop', count=51)]\n"
     ]
    }
   ],
   "source": [
    "print(AdvDF.take(2))#Action"
   ]
  },
  {
   "cell_type": "code",
   "execution_count": 13,
   "id": "3a870bff",
   "metadata": {},
   "outputs": [
    {
     "name": "stdout",
     "output_type": "stream",
     "text": [
      "+--------+-----+\n",
      "| product|count|\n",
      "+--------+-----+\n",
      "|  Phones|   55|\n",
      "|  Laptop|   43|\n",
      "|Keyboard|   37|\n",
      "|   Mouse|   40|\n",
      "+--------+-----+\n",
      "\n"
     ]
    }
   ],
   "source": [
    "AdvDF.show()"
   ]
  },
  {
   "cell_type": "code",
   "execution_count": null,
   "id": "5e2e5fc5",
   "metadata": {},
   "outputs": [],
   "source": [
    "names=sc.parallelize([\"Bills\",\"Mark\",\"Brain\",\"Mick\"])"
   ]
  },
  {
   "cell_type": "code",
   "execution_count": null,
   "id": "a41c94d2",
   "metadata": {},
   "outputs": [],
   "source": []
  },
  {
   "cell_type": "code",
   "execution_count": null,
   "id": "3f237260",
   "metadata": {},
   "outputs": [],
   "source": []
  },
  {
   "cell_type": "code",
   "execution_count": null,
   "id": "8315ace2",
   "metadata": {},
   "outputs": [],
   "source": []
  },
  {
   "cell_type": "code",
   "execution_count": null,
   "id": "24d45fb1",
   "metadata": {},
   "outputs": [],
   "source": [
    "# sc.stop()"
   ]
  },
  {
   "cell_type": "code",
   "execution_count": null,
   "id": "771d3296",
   "metadata": {},
   "outputs": [],
   "source": []
  }
 ],
 "metadata": {
  "kernelspec": {
   "display_name": "Python 3 (ipykernel)",
   "language": "python",
   "name": "python3"
  },
  "language_info": {
   "codemirror_mode": {
    "name": "ipython",
    "version": 3
   },
   "file_extension": ".py",
   "mimetype": "text/x-python",
   "name": "python",
   "nbconvert_exporter": "python",
   "pygments_lexer": "ipython3",
   "version": "3.11.4"
  }
 },
 "nbformat": 4,
 "nbformat_minor": 5
}
